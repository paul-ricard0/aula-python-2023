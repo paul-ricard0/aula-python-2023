{
 "cells": [
  {
   "cell_type": "code",
   "execution_count": null,
   "metadata": {},
   "outputs": [],
   "source": [
    "# 15) Como preencher uma lista até eu digitar 10000\n",
    "lista = []\n",
    "numero = 0 \n",
    "while numero == 10000:\n",
    "    numero = int(input(\"Digite um número para adicionar à lista: \"))\n",
    "    lista.append(numero)\n",
    "\n",
    "print(\"Lista preenchida:\", lista)\n"
   ]
  }
 ],
 "metadata": {
  "language_info": {
   "name": "python"
  },
  "orig_nbformat": 4
 },
 "nbformat": 4,
 "nbformat_minor": 2
}
