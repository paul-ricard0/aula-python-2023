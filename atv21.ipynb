{
 "cells": [
  {
   "cell_type": "code",
   "execution_count": null,
   "metadata": {},
   "outputs": [],
   "source": [
    "# 21) Escrevam um programa que solicite ao usuário um número e verifique se ele está presente em uma lista. O programa deve continuar pedindo até que o usuário insira \"0\" para sair.\n",
    "while True:\n",
    "    numero = int(input(\"Digite um número para verificar (ou 0 para sair): \"))\n",
    "    if numero == 0:\n",
    "        break\n",
    "    elif numero in lista:\n",
    "        print(f\"{numero} está presente na lista.\")\n",
    "    else:\n",
    "        print(f\"{numero} não está na lista.\")"
   ]
  }
 ],
 "metadata": {
  "language_info": {
   "name": "python"
  },
  "orig_nbformat": 4
 },
 "nbformat": 4,
 "nbformat_minor": 2
}
