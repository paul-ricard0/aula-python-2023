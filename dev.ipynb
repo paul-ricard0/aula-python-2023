{
 "cells": [
  {
   "cell_type": "code",
   "execution_count": null,
   "metadata": {},
   "outputs": [],
   "source": [
    "print(10+4)"
   ]
  },
  {
   "cell_type": "code",
   "execution_count": null,
   "metadata": {},
   "outputs": [],
   "source": [
    "print('10'+'4')"
   ]
  },
  {
   "cell_type": "code",
   "execution_count": null,
   "metadata": {},
   "outputs": [],
   "source": [
    "print('Michelle quero '+10+'pontos')"
   ]
  },
  {
   "cell_type": "code",
   "execution_count": null,
   "metadata": {},
   "outputs": [],
   "source": [
    "print('Michelle quero ',10,'pontos')"
   ]
  },
  {
   "cell_type": "code",
   "execution_count": null,
   "metadata": {},
   "outputs": [],
   "source": [
    "nome = 'mari'\n",
    "sobrenome = 'linda'\n",
    "idade = 18\n",
    "peso = 60.5\n",
    "\n",
    "print('A '+ nome, sobrenome +' tem', idade, 'anos e pesa', peso)"
   ]
  },
  {
   "cell_type": "code",
   "execution_count": null,
   "metadata": {},
   "outputs": [],
   "source": [
    "nome = input('Qual seu nome? ')\n",
    "print('Prazer em te conhecer', nome)"
   ]
  },
  {
   "cell_type": "code",
   "execution_count": null,
   "metadata": {},
   "outputs": [],
   "source": [
    "nota = float(input('Qual foi sua nota? '))\n",
    "\n",
    "if nota>8:\n",
    "    print('parabéns!!!')\n",
    "elif nota< 8 and nota>6:\n",
    "    print('você pode melhorar!!!')\n",
    "else:\n",
    "    print('estude mais!!!')  \n",
    "\n",
    "\n",
    "# O que acontece se eu passar a nota 8????"
   ]
  },
  {
   "cell_type": "code",
   "execution_count": null,
   "metadata": {},
   "outputs": [],
   "source": [
    "# 1) Receba dois números e mostre a soma deles"
   ]
  },
  {
   "cell_type": "code",
   "execution_count": null,
   "metadata": {},
   "outputs": [],
   "source": [
    "# 2) Criar um script que receba o dia, mês e ano de nascimento da pessoa e mostre em tela"
   ]
  },
  {
   "cell_type": "code",
   "execution_count": null,
   "metadata": {},
   "outputs": [],
   "source": [
    "# 3) Criar um Script que pergunta o nome, idade, sobrenome, peso\n",
    "# falar se a pessoa pode votar \n",
    "# pode tirar carteira\n",
    "# pode tomar vacina \n",
    "# se é maior ou não de idade\n",
    "# se é idosa ou não 60+ \n"
   ]
  },
  {
   "cell_type": "code",
   "execution_count": null,
   "metadata": {},
   "outputs": [],
   "source": [
    "nome = 'Paulo'\n",
    "sobrenome = 'Gordinho'\n",
    "\n",
    "print(f'Prazer em te conehcer {nome} {sobrenome}!')\n",
    "print('Prazer em te conehcer {} {}!'.format(nome, sobrenome))"
   ]
  },
  {
   "cell_type": "code",
   "execution_count": null,
   "metadata": {},
   "outputs": [],
   "source": [
    "# True False\n",
    "# Objeto e métodos \n",
    "\n",
    "n = input('Digete: ')\n",
    "\n",
    "print(\"É número:\", n.isnumeric())\n",
    "print(\"É apenas letras:\", n.isalpha())\n",
    "print(\"Tem letras e números:\", n.isalnum())\n",
    "print(\"É apenas maiúscula:\", n.isupper())\n",
    "print(\"É apenas minúscula:\", n.islower())\n",
    "print(\"O é string: \", isinstance(n, str))\n",
    "print(\"É boolean: \", isinstance(n, bool))\n",
    "print(\"Só tem espaço: \", n.isspace())\n",
    "print(\"O tipo é: \", type(n))"
   ]
  },
  {
   "cell_type": "code",
   "execution_count": null,
   "metadata": {},
   "outputs": [],
   "source": [
    "# 4) Descubra se o número é float"
   ]
  },
  {
   "cell_type": "code",
   "execution_count": null,
   "metadata": {},
   "outputs": [],
   "source": [
    "# Operador de Adição\n",
    "a = 10\n",
    "b = 5\n",
    "soma = a + b\n",
    "print(f\"Soma: {soma}\")\n",
    "\n",
    "# Operador de Subtração\n",
    "subtracao = a - b\n",
    "print(f\"Subtração: {subtracao}\")\n",
    "\n",
    "# Operador de Multiplicação\n",
    "multiplicacao = a * b\n",
    "print(f\"Multiplicação: {multiplicacao}\")\n",
    "\n",
    "# Operador de Divisão\n",
    "divisao = a / b\n",
    "print(f\"Divisão: {divisao}\")\n",
    "\n",
    "# Operador de Divisão Inteira\n",
    "divisao_inteira = a // b\n",
    "print(f\"Divisão Inteira: {divisao_inteira}\")\n",
    "\n",
    "# Operador de Resto da Divisão (Módulo)\n",
    "resto_divisao = a % b\n",
    "print(f\"Resto da Divisão (Módulo): {resto_divisao}\")\n",
    "\n",
    "# Operador de Exponenciação\n",
    "exponenciacao = a ** b\n",
    "print(f\"Exponenciação: {exponenciacao}\")"
   ]
  },
  {
   "cell_type": "code",
   "execution_count": 23,
   "metadata": {},
   "outputs": [],
   "source": [
    "# 5) Mostre o antecessor e o sucessor de um número"
   ]
  },
  {
   "cell_type": "code",
   "execution_count": null,
   "metadata": {},
   "outputs": [],
   "source": [
    "# 6) Solicite 3 números e me devolva a média "
   ]
  },
  {
   "cell_type": "code",
   "execution_count": null,
   "metadata": {},
   "outputs": [],
   "source": [
    "# 7) Solicite um número e me devolva o dobro, triplo, metade e raiz"
   ]
  },
  {
   "cell_type": "code",
   "execution_count": null,
   "metadata": {},
   "outputs": [],
   "source": [
    "# 8) Solicite a altura, largura e a quantidade de metros que um litro de tinta faz e me diga quantos litros de tintas serão necessários para pintar a parede"
   ]
  },
  {
   "cell_type": "code",
   "execution_count": null,
   "metadata": {},
   "outputs": [],
   "source": [
    "# 9) Solicite o valor do produto e a porcentagem de desconto e me mostre o valor final do produto"
   ]
  },
  {
   "cell_type": "code",
   "execution_count": null,
   "metadata": {},
   "outputs": [],
   "source": [
    "# 10) Solicite renda mensal e o histórico de crédito ao usuário e me diga se ele tem  o não condições para fazer um emprestimo \n",
    "# historico pode ser perfeito, bom, ruim \n",
    "# para estar apto: tem que ter o historico perfeito, ou uma renda maior que 100000, ou historio bom e uma renda maior que 2000"
   ]
  }
 ],
 "metadata": {
  "kernelspec": {
   "display_name": "Python 3",
   "language": "python",
   "name": "python3"
  },
  "language_info": {
   "codemirror_mode": {
    "name": "ipython",
    "version": 3
   },
   "file_extension": ".py",
   "mimetype": "text/x-python",
   "name": "python",
   "nbconvert_exporter": "python",
   "pygments_lexer": "ipython3",
   "version": "3.11.4"
  },
  "orig_nbformat": 4
 },
 "nbformat": 4,
 "nbformat_minor": 2
}
