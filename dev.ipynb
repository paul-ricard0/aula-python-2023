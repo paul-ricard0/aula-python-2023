{
 "cells": [
  {
   "cell_type": "code",
   "execution_count": null,
   "metadata": {},
   "outputs": [],
   "source": [
    "print(10+4)"
   ]
  },
  {
   "cell_type": "code",
   "execution_count": null,
   "metadata": {},
   "outputs": [],
   "source": [
    "print('10'+'4')"
   ]
  },
  {
   "cell_type": "code",
   "execution_count": null,
   "metadata": {},
   "outputs": [],
   "source": [
    "print('Michelle quero '+10+'pontos')"
   ]
  },
  {
   "cell_type": "code",
   "execution_count": null,
   "metadata": {},
   "outputs": [],
   "source": [
    "print('Michelle quero',10,'pontos')"
   ]
  },
  {
   "cell_type": "code",
   "execution_count": null,
   "metadata": {},
   "outputs": [],
   "source": [
    "nome = 'mari'\n",
    "sobrenome = 'linda'\n",
    "idade = 18\n",
    "peso = 60.5\n",
    "\n",
    "print('A '+ nome, sobrenome +' tem', idade, 'anos e pesa', peso)"
   ]
  },
  {
   "cell_type": "code",
   "execution_count": null,
   "metadata": {},
   "outputs": [],
   "source": [
    "nome = input('Qual seu nome? ')\n",
    "print('Prazer em te conhecer', nome)"
   ]
  },
  {
   "cell_type": "code",
   "execution_count": null,
   "metadata": {},
   "outputs": [],
   "source": [
    "nota = float(input('Qual foi sua nota? '))\n",
    "\n",
    "if nota>8:\n",
    "    print('parabéns!!!')\n",
    "elif nota< 8 and nota>6:\n",
    "    print('você pode melhorar!!!')\n",
    "else:\n",
    "    print('estude mais!!!')  \n",
    "\n",
    "\n",
    "# O que acontece se eu passar a nota 8????"
   ]
  },
  {
   "cell_type": "code",
   "execution_count": null,
   "metadata": {},
   "outputs": [],
   "source": [
    "# 1) Receba dois números e mostre a soma deles"
   ]
  },
  {
   "cell_type": "code",
   "execution_count": null,
   "metadata": {},
   "outputs": [],
   "source": [
    "# 2) Criar um script que receba o dia, mês e ano de nascimento da pessoa e mostre em tela"
   ]
  },
  {
   "cell_type": "code",
   "execution_count": null,
   "metadata": {},
   "outputs": [],
   "source": [
    "# 3) Criar um Script que pergunta o nome, idade, sobrenome, peso\n",
    "# falar se a pessoa pode votar \n",
    "# pode tirar carteira\n",
    "# pode tomar vacina \n",
    "# se é maior ou não de idade\n",
    "# se é idosa ou não 60+ \n"
   ]
  },
  {
   "cell_type": "code",
   "execution_count": null,
   "metadata": {},
   "outputs": [],
   "source": [
    "nome = 'Paulo'\n",
    "sobrenome = 'Gordinho'\n",
    "\n",
    "print(f'Prazer em te conehcer {nome} {sobrenome}!')\n",
    "print('Prazer em te conehcer {} {}!'.format(nome, sobrenome))"
   ]
  },
  {
   "cell_type": "code",
   "execution_count": null,
   "metadata": {},
   "outputs": [],
   "source": [
    "# True False\n",
    "# Objeto e métodos \n",
    "\n",
    "n = input('Digete: ')\n",
    "\n",
    "print(\"É número:\", n.isnumeric())\n",
    "print(\"É apenas letras:\", n.isalpha())\n",
    "print(\"Tem letras e números:\", n.isalnum())\n",
    "print(\"É apenas maiúscula:\", n.isupper())\n",
    "print(\"É apenas minúscula:\", n.islower())\n",
    "print(\"O é string: \", isinstance(n, str))\n",
    "print(\"É boolean: \", isinstance(n, bool))\n",
    "print(\"Só tem espaço: \", n.isspace())\n",
    "print(\"O tipo é: \", type(n))"
   ]
  },
  {
   "cell_type": "code",
   "execution_count": null,
   "metadata": {},
   "outputs": [],
   "source": [
    "# 4) Descubra se o número é float"
   ]
  },
  {
   "cell_type": "code",
   "execution_count": null,
   "metadata": {},
   "outputs": [],
   "source": [
    "# Operador de Adição\n",
    "a = 10\n",
    "b = 5\n",
    "soma = a + b\n",
    "print(f\"Soma: {soma}\")\n",
    "\n",
    "# Operador de Subtração\n",
    "subtracao = a - b\n",
    "print(f\"Subtração: {subtracao}\")\n",
    "\n",
    "# Operador de Multiplicação\n",
    "multiplicacao = a * b\n",
    "print(f\"Multiplicação: {multiplicacao}\")\n",
    "\n",
    "# Operador de Divisão\n",
    "divisao = a / b\n",
    "print(f\"Divisão: {divisao}\")\n",
    "\n",
    "# Operador de Divisão Inteira\n",
    "divisao_inteira = a // b\n",
    "print(f\"Divisão Inteira: {divisao_inteira}\")\n",
    "\n",
    "# Operador de Resto da Divisão (Módulo)\n",
    "resto_divisao = a % b\n",
    "print(f\"Resto da Divisão (Módulo): {resto_divisao}\")\n",
    "\n",
    "# Operador de Exponenciação\n",
    "exponenciacao = a ** b\n",
    "print(f\"Exponenciação: {exponenciacao}\")"
   ]
  },
  {
   "cell_type": "code",
   "execution_count": null,
   "metadata": {},
   "outputs": [],
   "source": [
    "# 5) Mostre o antecessor e o sucessor de um número"
   ]
  },
  {
   "cell_type": "code",
   "execution_count": null,
   "metadata": {},
   "outputs": [],
   "source": [
    "# 6) Solicite 3 números e me devolva a média "
   ]
  },
  {
   "cell_type": "code",
   "execution_count": null,
   "metadata": {},
   "outputs": [],
   "source": [
    "# 7) Solicite um número e me devolva o dobro, triplo, metade e raiz"
   ]
  },
  {
   "cell_type": "code",
   "execution_count": null,
   "metadata": {},
   "outputs": [],
   "source": [
    "# 8) Solicite a altura, largura e a quantidade de metros que um litro de tinta faz e me diga quantos litros de tintas serão necessários para pintar a parede"
   ]
  },
  {
   "cell_type": "code",
   "execution_count": null,
   "metadata": {},
   "outputs": [],
   "source": [
    "# 9) Solicite o valor do produto e a porcentagem de desconto e me mostre o valor final do produto"
   ]
  },
  {
   "cell_type": "code",
   "execution_count": null,
   "metadata": {},
   "outputs": [],
   "source": [
    "# 10) Solicite renda mensal e o histórico de crédito ao usuário e me diga se ele tem  o não condições para fazer um emprestimo \n",
    "# historico pode ser perfeito, bom, ruim \n",
    "# para estar apto: tem que ter o historico perfeito, ou uma renda maior que 100000, ou historio bom e uma renda maior que 2000"
   ]
  },
  {
   "cell_type": "code",
   "execution_count": null,
   "metadata": {},
   "outputs": [],
   "source": [
    "# Repetição em python em python\n",
    "num1 = input(\"Entre com um número: \")\n",
    "num2 = input(\"Entre com um número: \")\n",
    "num3 = input(\"Entre com um número: \")\n",
    "\n",
    "print(f'Você digitou {num1}, {num2}, {num3}')"
   ]
  },
  {
   "cell_type": "code",
   "execution_count": null,
   "metadata": {},
   "outputs": [],
   "source": [
    "#stop\n",
    "for n in range(3):\n",
    "    print(n)\n",
    "\n",
    "print()\n",
    "#start, stop\n",
    "for n in range(3, 10):\n",
    "  print(n)\n",
    "\n",
    "print()\n",
    "#start, stop, incremento \n",
    "x = range(3, 10, 2)\n",
    "for n in x:\n",
    "  print(n)"
   ]
  },
  {
   "cell_type": "code",
   "execution_count": null,
   "metadata": {},
   "outputs": [],
   "source": [
    "# E se eu quiser permitir que o usuário digita quantos números ele quiser e só pare quando ele digitar 10\n",
    "\n",
    "num = 0\n",
    "while num < 100:\n",
    "    num = int(input(\"Digite um número: \"))\n",
    "    print(\"valor é de\")\n",
    "    print(num)\n",
    "\n",
    "# senha_correta = \"12345\"\n",
    "# senha = input(\"Digite a senha: \")\n",
    "# while senha != senha_correta:\n",
    "#     senha = input(\"Senha incorreta. Tente novamente: \")\n",
    "# print(\"Acesso permitido!\")"
   ]
  },
  {
   "cell_type": "code",
   "execution_count": null,
   "metadata": {},
   "outputs": [],
   "source": [
    "# Se eu quiser somar o número até o total de 100?\n",
    "total = 0\n",
    "while total < 100:\n",
    "    num = int(input(\"Digite um número: \"))\n",
    "    total += num\n",
    "    print(f\"Soma do valro é {total}\")\n"
   ]
  },
  {
   "cell_type": "code",
   "execution_count": null,
   "metadata": {},
   "outputs": [],
   "source": [
    "# lisa em python\n",
    "\n",
    "# Exemplo de uma lista de números inteiros\n",
    "numeros = [1, 2, 3, 4, 5]\n",
    "\n",
    "# Exemplo de uma lista de strings\n",
    "frutas = [\"maçã\", \"banana\", \"laranja\"]"
   ]
  },
  {
   "cell_type": "code",
   "execution_count": null,
   "metadata": {},
   "outputs": [],
   "source": [
    "frutas = [\"maçã\", \"banana\", \"laranja\"]\n",
    "primeira_fruta = frutas[0]  # Acessa a primeira fruta (maçã)\n",
    "segunda_fruta = frutas[1]   # Acessa a segunda fruta (banana)"
   ]
  },
  {
   "cell_type": "code",
   "execution_count": null,
   "metadata": {},
   "outputs": [],
   "source": [
    "frutas = [\"maçã\", \"banana\", \"laranja\"]\n",
    "frutas[1] = \"pêra\"  # Substitui \"banana\" por \"pêra\""
   ]
  },
  {
   "cell_type": "code",
   "execution_count": null,
   "metadata": {},
   "outputs": [],
   "source": [
    "frutas = [\"maçã\", \"banana\"]\n",
    "frutas.append(\"laranja\")     # Adiciona \"laranja\" no final da lista\n",
    "frutas.insert(1, \"uva\")      # Insere \"uva\" na posição 1 (entre \"maçã\" e \"banana\")"
   ]
  },
  {
   "cell_type": "code",
   "execution_count": null,
   "metadata": {},
   "outputs": [],
   "source": [
    "frutas = [\"maçã\", \"banana\", \"laranja\"]\n",
    "frutas.remove(\"banana\")  # Remove \"banana\" da lista\n",
    "elemento_removido = frutas.pop(0)  # Remove o primeiro elemento (\"maçã\") e o armazena em 'elemento_removido'"
   ]
  },
  {
   "cell_type": "code",
   "execution_count": null,
   "metadata": {},
   "outputs": [],
   "source": [
    "# 11) como mostrar todos os valores de uma lista 1 por 1"
   ]
  },
  {
   "cell_type": "code",
   "execution_count": null,
   "metadata": {},
   "outputs": [],
   "source": [
    "# 12) mostrar o tamanho de uma lista\n",
    "frutas = [\"maçã\", \"banana\", \"laranja\"]\n",
    "tamanho = len(frutas)  # Tamanho da lista"
   ]
  },
  {
   "cell_type": "code",
   "execution_count": null,
   "metadata": {},
   "outputs": [],
   "source": [
    "# 13) Fazer um for onde eu vou entrar com 10 números, mas se eu digitar 0 eu saio do for\n",
    "numeros = []\n",
    "\n",
    "for _ in range(10):\n",
    "    numero = int(input(\"Digite um número (ou 0 para sair): \"))\n",
    "    if numero == 0:\n",
    "        break\n",
    "    numeros.append(numero)\n",
    "\n",
    "print(\"Números digitados:\", numeros)\n"
   ]
  },
  {
   "cell_type": "code",
   "execution_count": null,
   "metadata": {},
   "outputs": [],
   "source": [
    "# 14) Verificando a existência de um elemento:\n",
    "frutas = [\"maçã\", \"banana\", \"laranja\"]\n",
    "if \"laranja\" in frutas:\n",
    "    print(\"Sim, a laranja está na lista.\")"
   ]
  },
  {
   "cell_type": "code",
   "execution_count": null,
   "metadata": {},
   "outputs": [],
   "source": [
    "# 15) Como preencher uma lista até eu digitar 10000\n",
    "lista = []\n",
    "numero = 0 \n",
    "while numero == 10000:\n",
    "    numero = int(input(\"Digite um número para adicionar à lista: \"))\n",
    "    lista.append(numero)\n",
    "\n",
    "print(\"Lista preenchida:\", lista)\n"
   ]
  },
  {
   "cell_type": "code",
   "execution_count": null,
   "metadata": {},
   "outputs": [],
   "source": [
    "# 16) Somar todos os valores de uma lista\n",
    "def soma_lista(lista):\n",
    "    soma = 0\n",
    "    for numero in lista:\n",
    "        soma += numero\n",
    "    return soma\n",
    "\n",
    "lista = [1, 2, 3, 4, 5]\n",
    "resultado = soma_lista(lista)\n",
    "print(f\"A soma da lista é: {resultado}\")"
   ]
  },
  {
   "cell_type": "code",
   "execution_count": null,
   "metadata": {},
   "outputs": [],
   "source": [
    "# 17) Fazer a média de uma lista\n",
    "def media_lista(lista):\n",
    "    soma = sum(lista)\n",
    "    media = soma / len(lista)\n",
    "    return media\n",
    "\n",
    "lista = [10, 20, 30, 40, 50]\n",
    "resultado = media_lista(lista)\n",
    "print(f\"A média da lista é: {resultado}\")"
   ]
  },
  {
   "cell_type": "code",
   "execution_count": null,
   "metadata": {},
   "outputs": [],
   "source": [
    "# 18) Maior elemento de uma lista\n",
    "def maior_elemento(lista):\n",
    "    maior = lista[0]\n",
    "    for numero in lista:\n",
    "        if numero > maior:\n",
    "            maior = numero\n",
    "    return maior\n",
    "\n",
    "lista = [15, 7, 38, 41, 12]\n",
    "resultado = maior_elemento(lista)\n",
    "print(f\"O maior elemento da lista é: {resultado}\")"
   ]
  },
  {
   "cell_type": "code",
   "execution_count": null,
   "metadata": {},
   "outputs": [],
   "source": [
    "# 19) Total de elementos de uma lista\n",
    "def contar_elemento(lista, elemento):\n",
    "    contagem = lista.count(elemento)\n",
    "    return contagem\n",
    "\n",
    "lista = [1, 2, 2, 3, 2, 4, 2, 5]\n",
    "elemento = 2\n",
    "resultado = contar_elemento(lista, elemento)\n",
    "print(f\"O elemento {elemento} aparece {resultado} vezes na lista.\")"
   ]
  },
  {
   "cell_type": "code",
   "execution_count": null,
   "metadata": {},
   "outputs": [],
   "source": [
    "# 20) Iverter a ordem de uma lista\n",
    "def inverter_lista(lista):\n",
    "    lista_invertida = lista[::-1]\n",
    "    return lista_invertida\n",
    "\n",
    "lista = [1, 2, 3, 4, 5]\n",
    "lista_invertida = inverter_lista(lista)\n",
    "print(f\"Lista original: {lista}\")\n",
    "print(f\"Lista invertida: {lista_invertida}\")\n"
   ]
  },
  {
   "cell_type": "code",
   "execution_count": null,
   "metadata": {},
   "outputs": [],
   "source": [
    "# 21) Escrevam um programa que solicite ao usuário um número e verifique se ele está presente em uma lista. O programa deve continuar pedindo até que o usuário insira \"0\" para sair.\n",
    "while True:\n",
    "    numero = int(input(\"Digite um número para verificar (ou 0 para sair): \"))\n",
    "    if numero == 0:\n",
    "        break\n",
    "    elif numero in lista:\n",
    "        print(f\"{numero} está presente na lista.\")\n",
    "    else:\n",
    "        print(f\"{numero} não está na lista.\")"
   ]
  },
  {
   "cell_type": "code",
   "execution_count": null,
   "metadata": {},
   "outputs": [],
   "source": [
    "# 22) Criar um programa que permita ao usuário remover elementos específicos de uma lista até que eles decidam parar\n",
    "lista = [10, 20, 30, 40, 50]\n",
    "\n",
    "while True:\n",
    "    print(\"Lista atual:\", lista)\n",
    "    elemento = int(input(\"Digite o elemento a ser removido (ou 0 para parar): \"))\n",
    "    if elemento == 0:\n",
    "        break\n",
    "    if elemento in lista:\n",
    "        lista.remove(elemento)\n",
    "        print(f\"{elemento} foi removido da lista.\")\n",
    "    else:\n",
    "        print(f\"{elemento} não está na lista. Nada foi removido.\")\n",
    "\n",
    "print(\"Lista final:\", lista)\n"
   ]
  },
  {
   "cell_type": "code",
   "execution_count": null,
   "metadata": {},
   "outputs": [],
   "source": [
    "# 23) Escrevam um programa que permita ao usuário adicionar elementos a uma lista, garantindo que os elementos sejam únicos (não podem ser duplicados na lista)\n",
    "lista = []\n",
    "\n",
    "while True:\n",
    "    elemento = int(input(\"Digite um elemento para adicionar à lista (ou 0 para parar): \"))\n",
    "    if elemento == 0:\n",
    "        break\n",
    "    if elemento not in lista:\n",
    "        lista.append(elemento)\n",
    "        print(f\"{elemento} foi adicionado à lista.\")\n",
    "    else:\n",
    "        print(f\"{elemento} já está na lista. Não foi adicionado novamente"
   ]
  },
  {
   "cell_type": "code",
   "execution_count": null,
   "metadata": {},
   "outputs": [],
   "source": [
    "# 24) Desafio para casa \n",
    "# Adivinhar o número secreto: Crie um jogo onde o computador escolhe um número aleatório e o jogador tem que adivinhar o número. O programa deve fornecer dicas se o número digitado for muito alto ou muito baixo\n",
    "import random\n",
    "\n",
    "# Gerar um número aleatório entre 1 e 100\n",
    "numero_secreto = random.randint(1, 100)\n",
    "\n",
    "tentativas = 0\n",
    "\n",
    "print(\"Bem-vindo ao jogo de adivinhar o número secreto!\")\n",
    "print(\"Tente adivinhar um número entre 1 e 100.\")\n",
    "\n",
    "while True:\n",
    "    tentativa = int(input(\"Digite o seu palpite: \"))\n",
    "    tentativas += 1\n",
    "\n",
    "    if tentativa < numero_secreto:\n",
    "        print(\"O número é maior. Tente novamente.\")\n",
    "    elif tentativa > numero_secreto:\n",
    "        print(\"O número é menor. Tente novamente.\")\n",
    "    else:\n",
    "        print(f\"Parabéns! Você acertou o número secreto {numero_secreto} em {tentativas} tentativas.\")\n",
    "        break"
   ]
  }
 ],
 "metadata": {
  "kernelspec": {
   "display_name": "Python 3",
   "language": "python",
   "name": "python3"
  },
  "language_info": {
   "codemirror_mode": {
    "name": "ipython",
    "version": 3
   },
   "file_extension": ".py",
   "mimetype": "text/x-python",
   "name": "python",
   "nbconvert_exporter": "python",
   "pygments_lexer": "ipython3",
   "version": "3.11.3"
  },
  "orig_nbformat": 4
 },
 "nbformat": 4,
 "nbformat_minor": 2
}
