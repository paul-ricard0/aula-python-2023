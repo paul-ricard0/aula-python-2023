{
 "cells": [
  {
   "cell_type": "code",
   "execution_count": null,
   "metadata": {},
   "outputs": [],
   "source": [
    "# 24) Desafio para casa \n",
    "# Adivinhar o número secreto: Crie um jogo onde o computador escolhe um número aleatório e o jogador tem que adivinhar o número. O programa deve fornecer dicas se o número digitado for muito alto ou muito baixo\n",
    "import random\n",
    "\n",
    "# Gerar um número aleatório entre 1 e 100\n",
    "numero_secreto = random.randint(1, 100)\n",
    "\n",
    "tentativas = 0\n",
    "\n",
    "print(\"Bem-vindo ao jogo de adivinhar o número secreto!\")\n",
    "print(\"Tente adivinhar um número entre 1 e 100.\")\n",
    "\n",
    "while True:\n",
    "    tentativa = int(input(\"Digite o seu palpite: \"))\n",
    "    tentativas += 1\n",
    "\n",
    "    if tentativa < numero_secreto:\n",
    "        print(\"O número é maior. Tente novamente.\")\n",
    "    elif tentativa > numero_secreto:\n",
    "        print(\"O número é menor. Tente novamente.\")\n",
    "    else:\n",
    "        print(f\"Parabéns! Você acertou o número secreto {numero_secreto} em {tentativas} tentativas.\")\n",
    "        break\n",
    "\n"
   ]
  }
 ],
 "metadata": {
  "language_info": {
   "name": "python"
  },
  "orig_nbformat": 4
 },
 "nbformat": 4,
 "nbformat_minor": 2
}
