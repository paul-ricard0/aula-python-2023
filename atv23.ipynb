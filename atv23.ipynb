{
 "cells": [
  {
   "cell_type": "code",
   "execution_count": null,
   "metadata": {},
   "outputs": [],
   "source": [
    "# 23) Escrevam um programa que permita ao usuário adicionar elementos a uma lista, garantindo que os elementos sejam únicos (não podem ser duplicados na lista)\n",
    "lista = []\n",
    "\n",
    "while True:\n",
    "    elemento = int(input(\"Digite um elemento para adicionar à lista (ou 0 para parar): \"))\n",
    "    if elemento == 0:\n",
    "        break\n",
    "    if elemento not in lista:\n",
    "        lista.append(elemento)\n",
    "        print(f\"{elemento} foi adicionado à lista.\")\n",
    "    else:\n",
    "        print(f\"{elemento} já está na lista. Não foi adicionado novamente"
   ]
  }
 ],
 "metadata": {
  "language_info": {
   "name": "python"
  },
  "orig_nbformat": 4
 },
 "nbformat": 4,
 "nbformat_minor": 2
}
