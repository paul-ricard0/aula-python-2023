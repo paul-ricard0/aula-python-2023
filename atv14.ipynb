{
 "cells": [
  {
   "cell_type": "code",
   "execution_count": null,
   "metadata": {},
   "outputs": [],
   "source": [
    "# 14) Verificando a existência de um elemento:\n",
    "frutas = [\"maçã\", \"banana\", \"laranja\"]\n",
    "if \"laranja\" in frutas:\n",
    "    print(\"Sim, a laranja está na lista.\")"
   ]
  }
 ],
 "metadata": {
  "language_info": {
   "name": "python"
  },
  "orig_nbformat": 4
 },
 "nbformat": 4,
 "nbformat_minor": 2
}
