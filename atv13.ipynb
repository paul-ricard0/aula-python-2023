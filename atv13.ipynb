{
 "cells": [
  {
   "cell_type": "code",
   "execution_count": null,
   "metadata": {},
   "outputs": [],
   "source": [
    "# 13) Fazer um for onde eu vou entrar com 10 números, mas se eu digitar 0 eu saio do for\n",
    "numeros = []\n",
    "\n",
    "for _ in range(10):\n",
    "    numero = int(input(\"Digite um número (ou 0 para sair): \"))\n",
    "    if numero == 0:\n",
    "        break\n",
    "    numeros.append(numero)\n",
    "\n",
    "print(\"Números digitados:\", numeros)\n"
   ]
  }
 ],
 "metadata": {
  "language_info": {
   "name": "python"
  },
  "orig_nbformat": 4
 },
 "nbformat": 4,
 "nbformat_minor": 2
}
