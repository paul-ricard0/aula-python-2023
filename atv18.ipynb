{
 "cells": [
  {
   "cell_type": "code",
   "execution_count": null,
   "metadata": {},
   "outputs": [],
   "source": [
    "# 18) Maior elemento de uma lista\n",
    "def maior_elemento(lista):\n",
    "    maior = lista[0]\n",
    "    for numero in lista:\n",
    "        if numero > maior:\n",
    "            maior = numero\n",
    "    return maior\n",
    "\n",
    "lista = [15, 7, 38, 41, 12]\n",
    "resultado = maior_elemento(lista)\n",
    "print(f\"O maior elemento da lista é: {resultado}\")"
   ]
  }
 ],
 "metadata": {
  "language_info": {
   "name": "python"
  },
  "orig_nbformat": 4
 },
 "nbformat": 4,
 "nbformat_minor": 2
}
