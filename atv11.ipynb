{
 "cells": [
  {
   "cell_type": "code",
   "execution_count": null,
   "metadata": {},
   "outputs": [],
   "source": [
    "# 11) como mostrar todos os valores de uma lista 1 por 1\n",
    "lista = [10, 20, 30, 40, 50]\n",
    "\n",
    "for elemento in lista:\n",
    "    print(elemento)"
   ]
  }
 ],
 "metadata": {
  "language_info": {
   "name": "python"
  },
  "orig_nbformat": 4
 },
 "nbformat": 4,
 "nbformat_minor": 2
}
