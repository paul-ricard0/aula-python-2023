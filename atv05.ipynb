{
 "cells": [
  {
   "cell_type": "code",
   "execution_count": null,
   "metadata": {},
   "outputs": [],
   "source": [
    "# Solicita ao usuário que insira um número\n",
    "numero = int(input(\"Digite um número: \"))\n",
    "\n",
    "# Calcula o sucessor (número + 1)\n",
    "sucessor = numero + 1\n",
    "\n",
    "# Calcula o antecessor (número - 1)\n",
    "antecessor = numero - 1\n",
    "\n",
    "# Imprime o sucessor e o antecessor\n",
    "print(f\"O sucessor de {numero} é {sucessor}.\")\n",
    "print(f\"O antecessor de {numero} é {antecessor}.\")\n"
   ]
  }
 ],
 "metadata": {
  "language_info": {
   "name": "python"
  },
  "orig_nbformat": 4
 },
 "nbformat": 4,
 "nbformat_minor": 2
}
