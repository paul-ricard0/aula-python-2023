{
 "cells": [
  {
   "cell_type": "code",
   "execution_count": null,
   "metadata": {},
   "outputs": [],
   "source": [
    "# 12) mostrar o tamanho de uma lista\n",
    "frutas = [\"maçã\", \"banana\", \"laranja\"]\n",
    "tamanho = len(frutas)  # Tamanho da lista"
   ]
  }
 ],
 "metadata": {
  "language_info": {
   "name": "python"
  },
  "orig_nbformat": 4
 },
 "nbformat": 4,
 "nbformat_minor": 2
}
