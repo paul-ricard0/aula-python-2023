{
 "cells": [
  {
   "cell_type": "code",
   "execution_count": null,
   "metadata": {},
   "outputs": [],
   "source": [
    "# 20) Iverter a ordem de uma lista\n",
    "def inverter_lista(lista):\n",
    "    lista_invertida = lista[::-1]\n",
    "    return lista_invertida\n",
    "\n",
    "lista = [1, 2, 3, 4, 5]\n",
    "lista_invertida = inverter_lista(lista)\n",
    "print(f\"Lista original: {lista}\")\n",
    "print(f\"Lista invertida: {lista_invertida}\")\n"
   ]
  }
 ],
 "metadata": {
  "language_info": {
   "name": "python"
  },
  "orig_nbformat": 4
 },
 "nbformat": 4,
 "nbformat_minor": 2
}
