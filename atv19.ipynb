{
 "cells": [
  {
   "cell_type": "code",
   "execution_count": null,
   "metadata": {},
   "outputs": [],
   "source": [
    "# 19) Total de elementos de uma lista\n",
    "def contar_elemento(lista, elemento):\n",
    "    contagem = lista.count(elemento)\n",
    "    return contagem\n",
    "\n",
    "lista = [1, 2, 2, 3, 2, 4, 2, 5]\n",
    "elemento = 2\n",
    "resultado = contar_elemento(lista, elemento)\n",
    "print(f\"O elemento {elemento} aparece {resultado} vezes na lista.\")"
   ]
  }
 ],
 "metadata": {
  "language_info": {
   "name": "python"
  },
  "orig_nbformat": 4
 },
 "nbformat": 4,
 "nbformat_minor": 2
}
