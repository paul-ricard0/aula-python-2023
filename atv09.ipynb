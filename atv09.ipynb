{
 "cells": [
  {
   "cell_type": "code",
   "execution_count": null,
   "metadata": {},
   "outputs": [],
   "source": [
    "# Solicita ao usuário o valor original do produto\n",
    "valor_original = float(input(\"Digite o valor original do produto: R$ \"))\n",
    "\n",
    "# Solicita ao usuário o percentual de desconto\n",
    "percentual_desconto = float(input(\"Digite o percentual de desconto (%): \"))\n",
    "\n",
    "# Calcula o valor do desconto\n",
    "desconto = (percentual_desconto / 100) * valor_original\n",
    "\n",
    "# Calcula o valor com desconto\n",
    "valor_com_desconto = valor_original - desconto\n",
    "\n",
    "# Imprime o valor com desconto\n",
    "print(f\"O valor com {percentual_desconto}% de desconto é: R$ {valor_com_desconto:.2f}\")\n"
   ]
  }
 ],
 "metadata": {
  "language_info": {
   "name": "python"
  },
  "orig_nbformat": 4
 },
 "nbformat": 4,
 "nbformat_minor": 2
}
