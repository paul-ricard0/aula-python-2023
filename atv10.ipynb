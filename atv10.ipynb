{
 "cells": [
  {
   "cell_type": "code",
   "execution_count": null,
   "metadata": {},
   "outputs": [],
   "source": [
    "# Solicita a renda mensal e o histórico de crédito ao usuário\n",
    "renda_mensal = float(input(\"Digite sua renda mensal (em R$): \"))\n",
    "historico_credito = input(\"Você tem um histórico de crédito bom? (perfeito, bom ou ruim): \").lower()\n",
    "\n",
    "# Verifica a elegibilidade para o empréstimo\n",
    "if (renda_mensal >= 2000) and (historico_credito == \"bom\"):\n",
    "    print(\"Parabéns! Você é elegível para um empréstimo.\")\n",
    "elif (renda_mensal >= 100000) or (historico_credito == \"perfeito\"):\n",
    "    print(\"Parabéns! Você é elegível para um empréstimo.\")\n",
    "else:\n",
    "    print(\"Desculpe, você não é elegível para um empréstimo neste momento.\")"
   ]
  }
 ],
 "metadata": {
  "language_info": {
   "name": "python"
  },
  "orig_nbformat": 4
 },
 "nbformat": 4,
 "nbformat_minor": 2
}
