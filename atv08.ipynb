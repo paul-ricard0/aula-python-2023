{
 "cells": [
  {
   "cell_type": "code",
   "execution_count": null,
   "metadata": {},
   "outputs": [],
   "source": [
    "# Solicita a altura e a largura da parede ao usuário em metros\n",
    "altura = float(input(\"Digite a altura da parede (em metros): \"))\n",
    "largura = float(input(\"Digite a largura da parede (em metros): \"))\n",
    "\n",
    "# Solicita a quantidade de metros quadrados que um litro de tinta pinta\n",
    "metros_quadrados_por_litro = float(input(\"Digite a quantidade de metros quadrados que um litro de tinta pinta: \"))\n",
    "\n",
    "# Calcula a área da parede\n",
    "area_da_parede = altura * largura\n",
    "\n",
    "# Calcula a quantidade de litros de tinta necessários\n",
    "litros_de_tinta_necessarios = area_da_parede / metros_quadrados_por_litro\n",
    "\n",
    "# Imprime a quantidade de litros de tinta necessários\n",
    "print(f\"Para pintar uma parede de {altura} metros de altura e {largura} metros de largura, serão necessários {litros_de_tinta_necessarios:.2f} litros de tinta.\")\n"
   ]
  }
 ],
 "metadata": {
  "language_info": {
   "name": "python"
  },
  "orig_nbformat": 4
 },
 "nbformat": 4,
 "nbformat_minor": 2
}
