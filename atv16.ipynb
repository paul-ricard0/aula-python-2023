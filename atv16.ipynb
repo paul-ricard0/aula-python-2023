{
 "cells": [
  {
   "cell_type": "code",
   "execution_count": null,
   "metadata": {},
   "outputs": [],
   "source": [
    "# 16) Somar todos os valores de uma lista\n",
    "def soma_lista(lista):\n",
    "    soma = 0\n",
    "    for numero in lista:\n",
    "        soma += numero\n",
    "    return soma\n",
    "\n",
    "lista = [1, 2, 3, 4, 5]\n",
    "resultado = soma_lista(lista)\n",
    "print(f\"A soma da lista é: {resultado}\")"
   ]
  }
 ],
 "metadata": {
  "language_info": {
   "name": "python"
  },
  "orig_nbformat": 4
 },
 "nbformat": 4,
 "nbformat_minor": 2
}
