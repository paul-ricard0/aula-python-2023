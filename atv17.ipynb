{
 "cells": [
  {
   "cell_type": "code",
   "execution_count": null,
   "metadata": {},
   "outputs": [],
   "source": [
    "# 17) Fazer a média de uma lista\n",
    "def media_lista(lista):\n",
    "    soma = sum(lista)\n",
    "    media = soma / len(lista)\n",
    "    return media\n",
    "\n",
    "lista = [10, 20, 30, 40, 50]\n",
    "resultado = media_lista(lista)\n",
    "print(f\"A média da lista é: {resultado}\")"
   ]
  }
 ],
 "metadata": {
  "language_info": {
   "name": "python"
  },
  "orig_nbformat": 4
 },
 "nbformat": 4,
 "nbformat_minor": 2
}
