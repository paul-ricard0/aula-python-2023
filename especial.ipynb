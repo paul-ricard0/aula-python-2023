{
 "cells": [
  {
   "cell_type": "code",
   "execution_count": null,
   "metadata": {},
   "outputs": [],
   "source": [
    "import chromedriver_binary\n",
    "from selenium import webdriver\n",
    "\n",
    "driver = webdriver.Chrome()"
   ]
  },
  {
   "cell_type": "code",
   "execution_count": null,
   "metadata": {},
   "outputs": [],
   "source": [
    "driver.get('https://www.google.com/')"
   ]
  },
  {
   "cell_type": "code",
   "execution_count": null,
   "metadata": {},
   "outputs": [],
   "source": [
    "from selenium.webdriver.common.by import By\n",
    "\n",
    "driver.find_element(By.XPATH, '//*[@id=\"APjFqb\"]').send_keys('Cotação do dolar')"
   ]
  },
  {
   "cell_type": "code",
   "execution_count": null,
   "metadata": {},
   "outputs": [],
   "source": [
    "driver.find_element(By.XPATH, '/html/body/div[1]/div[3]/form/div[1]/div[1]/div[2]/div[2]/div[5]/center/input[1]').click()"
   ]
  },
  {
   "cell_type": "code",
   "execution_count": null,
   "metadata": {},
   "outputs": [],
   "source": [
    "driver.quit()"
   ]
  },
  {
   "cell_type": "code",
   "execution_count": null,
   "metadata": {},
   "outputs": [],
   "source": [
    "import chromedriver_binary # Lib para utilizar o chrome com selenium\n",
    "from selenium import webdriver # Importando webdriver para manipular o driver da web\n",
    "from selenium.webdriver.common.by import By # Importando para escolher a forma de encontrar um elemnto na web \n",
    "\n",
    "driver = webdriver.Chrome()\n",
    "driver.get('https://www.google.com/')\n",
    "driver.find_element(By.XPATH, '//*[@id=\"APjFqb\"]').send_keys('Cotação do dolar')\n",
    "driver.find_element(By.XPATH, '/html/body/div[1]/div[3]/form/div[1]/div[1]/div[2]/div[2]/div[5]/center/input[1]').click()\n",
    "\n",
    "# from time import sleep # Importando para fazer o PC esperar um pouco o processamento da web\n",
    "# sleep(2)"
   ]
  },
  {
   "cell_type": "code",
   "execution_count": null,
   "metadata": {},
   "outputs": [],
   "source": [
    "driver.quit()"
   ]
  },
  {
   "cell_type": "code",
   "execution_count": null,
   "metadata": {},
   "outputs": [],
   "source": [
    "dolar = driver.find_element(By.XPATH, '//*[@id=\"knowledge-currency__updatable-data-column\"]/div[1]/div[2]/span[1]').text\n",
    "dolar"
   ]
  },
  {
   "cell_type": "code",
   "execution_count": null,
   "metadata": {},
   "outputs": [],
   "source": [
    "driver.find_element(By.XPATH, '//*[@id=\"APjFqb\"]').send_keys('Cotação da Euro')\n",
    "\n",
    "# driver.find_element(By.XPATH, '//*[@id=\"APjFqb\"]').clear()"
   ]
  },
  {
   "cell_type": "code",
   "execution_count": null,
   "metadata": {},
   "outputs": [],
   "source": [
    "from selenium.webdriver.common.keys import Keys\n",
    "driver.find_element(By.XPATH, '//*[@id=\"APjFqb\"]').send_keys(Keys.ENTER)"
   ]
  },
  {
   "cell_type": "code",
   "execution_count": null,
   "metadata": {},
   "outputs": [],
   "source": [
    "euro = driver.find_element(By.XPATH, '//*[@id=\"knowledge-currency__updatable-data-column\"]/div[1]/div[2]/span[1]').text   \n",
    "print(euro)"
   ]
  },
  {
   "cell_type": "code",
   "execution_count": null,
   "metadata": {},
   "outputs": [],
   "source": [
    "import chromedriver_binary # Lib para utilizar o chrome com selenium\n",
    "from selenium import webdriver # Importando webdriver para manipular o driver da web\n",
    "from selenium.webdriver.common.by import By # Importando para escolher a forma de encontrar um elemnto na web \n",
    "from selenium.webdriver.common.keys import Keys # Importando para passar Teclas espaciais do teclado\n",
    "from time import sleep # Importando para fazer o PC esperar um pouco o processamento da web\n",
    "\n",
    "\n",
    "# Configurando para o webdriver abrir em tela cheia ou em segundo plano\n",
    "chromeOptions = webdriver.ChromeOptions() \n",
    "chromeOptions.add_argument(\"start-maximized\")\n",
    "# chromeOptions.add_argument(\"--headless\")\n",
    "\n",
    "# abrindo o navegador e criando minha variável que representa o navegador \n",
    "driver = webdriver.Chrome(options=chromeOptions)\n",
    "\n",
    "# acessando o site do google.com utilzando a função .get()\n",
    "driver.get('https://www.google.com/')\n",
    "sleep(1)\n",
    "\n",
    "# Passando minha pesquisa na barra de pesquisa utilzando a função .send_keys()\n",
    "driver.find_element(By.XPATH, '//*[@id=\"APjFqb\"]').send_keys('Cotação do dolar')\n",
    "sleep(1)\n",
    "\n",
    "# Click em pesquisar utilzando a função .click()\n",
    "driver.find_element(By.XPATH, '/html/body/div[1]/div[3]/form/div[1]/div[1]/div[2]/div[2]/div[5]/center/input[1]').click()\n",
    "\n",
    "# Pegando o valor do dolar utilzando a função .text\n",
    "dolar = driver.find_element(By.XPATH, '//*[@id=\"knowledge-currency__updatable-data-column\"]/div[1]/div[2]/span[1]').text\n",
    "print('Cotação do Dolar', dolar)\n",
    "sleep(1)\n",
    "\n",
    "# Limpando a barra de pesquisa com a função .clear() \n",
    "driver.find_element(By.XPATH, '//*[@id=\"APjFqb\"]').clear()\n",
    "sleep(1)\n",
    "\n",
    "driver.find_element(By.XPATH, '//*[@id=\"APjFqb\"]').send_keys('Cotação da Euro')\n",
    "sleep(1)\n",
    "\n",
    "# Utilizando Keys para utilizar a tecla especial ENTER \n",
    "driver.find_element(By.XPATH, '//*[@id=\"APjFqb\"]').send_keys(Keys.ENTER)\n",
    "sleep(1)\n",
    "euro = driver.find_element(By.XPATH, '//*[@id=\"knowledge-currency__updatable-data-column\"]/div[1]/div[2]/span[1]').text   \n",
    "print('Cotação do Euro:',euro)\n",
    "sleep(1)\n",
    "\n",
    "driver.find_element(By.XPATH, '//*[@id=\"APjFqb\"]').clear()\n",
    "sleep(1)\n",
    "driver.find_element(By.XPATH, '//*[@id=\"APjFqb\"]').send_keys('Cotação da Peso Argentino')\n",
    "sleep(1)\n",
    "driver.find_element(By.XPATH, '//*[@id=\"APjFqb\"]').send_keys(Keys.ENTER)\n",
    "peso = driver.find_element(By.XPATH, '//*[@id=\"knowledge-currency__updatable-data-column\"]/div[1]/div[2]/span[1]').text   \n",
    "print('Cotação do Euro:',peso)"
   ]
  },
  {
   "cell_type": "code",
   "execution_count": null,
   "metadata": {},
   "outputs": [],
   "source": [
    "driver.find_element(By.XPATH, '//*[@id=\"APjFqb\"]').clear()\n",
    "sleep(1)\n",
    "driver.find_element(By.XPATH, '//*[@id=\"APjFqb\"]').send_keys('Cotação da Peso Argentino')\n",
    "sleep(1)\n",
    "driver.find_element(By.XPATH, '//*[@id=\"APjFqb\"]').send_keys(Keys.ENTER)\n",
    "peso = driver.find_element(By.XPATH, '//*[@id=\"knowledge-currency__updatable-data-column\"]/div[1]/div[2]/span[1]').text   \n",
    "print('Cotação do Euro:',peso)"
   ]
  },
  {
   "cell_type": "code",
   "execution_count": null,
   "metadata": {},
   "outputs": [],
   "source": [
    "import datetime\n",
    "\n",
    "# Obtém a data e hora atual\n",
    "agora = datetime.datetime.now()\n",
    "\n",
    "# Formata a data e hora no formato brasileiro\n",
    "data_hora_formatada = agora.strftime(\"%d/%m/%Y %H:%M:%S\")\n",
    "\n",
    "print(data_hora_formatada)\n"
   ]
  },
  {
   "cell_type": "code",
   "execution_count": null,
   "metadata": {},
   "outputs": [],
   "source": [
    "import chromedriver_binary # Lib para utilizar o chrome com selenium\n",
    "from selenium import webdriver # Importando webdriver para manipular o driver da web\n",
    "from selenium.webdriver.common.by import By # Importando para escolher a forma de encontrar um elemnto na web \n",
    "from selenium.webdriver.common.keys import Keys # Importando para passar Teclas espaciais do teclado\n",
    "from time import sleep # Importando para fazer o PC esperar um pouco o processamento da web\n",
    "import datetime # para pegarmos a data de hoje \n",
    "\n",
    "# Configurando para o webdriver abrir em tela cheia ou em segundo plano\n",
    "chromeOptions = webdriver.ChromeOptions() \n",
    "chromeOptions.add_argument(\"start-maximized\")\n",
    "# chromeOptions.add_argument(\"--headless\")\n",
    "\n",
    "# abrindo o navegador e criando minha variável que representa o navegador \n",
    "driver = webdriver.Chrome(options=chromeOptions)\n",
    "\n",
    "# acessando o site do google.com utilzando a função .get()\n",
    "driver.get('https://www.google.com/')\n",
    "sleep(1)\n",
    "\n",
    "# Passando minha pesquisa na barra de pesquisa utilzando a função .send_keys()\n",
    "driver.find_element(By.XPATH, '//*[@id=\"APjFqb\"]').send_keys('Cotação do dolar')\n",
    "sleep(1)\n",
    "\n",
    "# Click em pesquisar utilzando a função .click()\n",
    "driver.find_element(By.XPATH, '/html/body/div[1]/div[3]/form/div[1]/div[1]/div[2]/div[2]/div[5]/center/input[1]').click()\n",
    "\n",
    "# Pegando o valor do dolar utilzando a função .text\n",
    "dolar = driver.find_element(By.XPATH, '//*[@id=\"knowledge-currency__updatable-data-column\"]/div[1]/div[2]/span[1]').text\n",
    "print('Cotação do Dolar', dolar)\n",
    "sleep(1)\n",
    "\n",
    "# Limpando a barra de pesquisa com a função .clear() \n",
    "driver.find_element(By.XPATH, '//*[@id=\"APjFqb\"]').clear()\n",
    "sleep(1)\n",
    "\n",
    "driver.find_element(By.XPATH, '//*[@id=\"APjFqb\"]').send_keys('Cotação da Euro')\n",
    "sleep(1)\n",
    "\n",
    "# Utilizando Keys para utilizar a tecla especial ENTER \n",
    "driver.find_element(By.XPATH, '//*[@id=\"APjFqb\"]').send_keys(Keys.ENTER)\n",
    "sleep(1)\n",
    "euro = driver.find_element(By.XPATH, '//*[@id=\"knowledge-currency__updatable-data-column\"]/div[1]/div[2]/span[1]').text   \n",
    "print('Cotação do Euro:',euro)\n",
    "sleep(1)\n",
    "\n",
    "driver.find_element(By.XPATH, '//*[@id=\"APjFqb\"]').clear()\n",
    "sleep(1)\n",
    "driver.find_element(By.XPATH, '//*[@id=\"APjFqb\"]').send_keys('Cotação da Peso Argentino')\n",
    "sleep(1)\n",
    "driver.find_element(By.XPATH, '//*[@id=\"APjFqb\"]').send_keys(Keys.ENTER)\n",
    "peso = driver.find_element(By.XPATH, '//*[@id=\"knowledge-currency__updatable-data-column\"]/div[1]/div[2]/span[1]').text   \n",
    "print('Cotação do Euro:',peso)\n",
    "sleep(1)\n",
    "\n",
    "driver.close()\n",
    "driver.quit()\n",
    "\n",
    "# Obtém a data e hora atual\n",
    "agora = datetime.datetime.now()\n",
    "\n",
    "# Formata a data e hora no formato brasileiro\n",
    "data = agora.strftime('%d/%m/%Y')\n",
    "hora = agora.strftime('%H:%M:%S')\n",
    "\n",
    "print(data, hora)\n",
    "\n"
   ]
  },
  {
   "cell_type": "code",
   "execution_count": null,
   "metadata": {},
   "outputs": [],
   "source": [
    "import pandas as pd\n",
    "\n",
    "# Cria um DataFrame vazio com as colunas especificadas\n",
    "df = pd.DataFrame(columns=[\"data\", \"hora\", \"dolar\", \"euro\", \"peso\"])\n",
    "\n",
    "# Exibe o DataFrame vazio\n",
    "print(df)\n",
    "\n",
    "# df.to_csv('cotacoes.csv', index=False)"
   ]
  },
  {
   "cell_type": "code",
   "execution_count": null,
   "metadata": {},
   "outputs": [],
   "source": []
  },
  {
   "cell_type": "code",
   "execution_count": null,
   "metadata": {},
   "outputs": [],
   "source": [
    "import pandas as pd\n",
    "\n",
    "# Ler o arquivo CSV\n",
    "df = pd.read_csv(\"cotacoes.csv\")\n",
    "\n",
    "# Adicionar a nova linha ao DataFrame\n",
    "df.loc[len(df)] = [\"11/10/2023\", \"16:00:00\", 5.20, 6.00, 0.28]\n",
    "\n",
    "# Salvar o DataFrame atualizado de volta para o arquivo CSV\n",
    "# df.to_csv(\"cotacoes.csv\", index=False)\n",
    "\n",
    "\n",
    "df"
   ]
  },
  {
   "cell_type": "code",
   "execution_count": 2,
   "metadata": {},
   "outputs": [
    {
     "name": "stderr",
     "output_type": "stream",
     "text": [
      "The chromedriver version (116.0.5845.96) detected in PATH at c:\\Users\\paulo\\AppData\\Local\\Programs\\Python\\Python311\\Lib\\site-packages\\chromedriver_binary\\chromedriver.exe might not be compatible with the detected chrome version (117.0.5938.152); currently, chromedriver 117.0.5938.149 is recommended for chrome 117.*, so it is advised to delete the driver in PATH and retry\n"
     ]
    },
    {
     "name": "stdout",
     "output_type": "stream",
     "text": [
      "Cotação do Dolar 5,05\n",
      "Cotação do Euro: 5,37\n",
      "Cotação do Peso: 0,014\n",
      "11/10/2023 20:35:38\n"
     ]
    }
   ],
   "source": [
    "import chromedriver_binary # Lib para utilizar o chrome com selenium\n",
    "from selenium import webdriver # Importando webdriver para manipular o driver da web\n",
    "from selenium.webdriver.common.by import By # Importando para escolher a forma de encontrar um elemnto na web \n",
    "from selenium.webdriver.common.keys import Keys # Importando para passar Teclas espaciais do teclado\n",
    "from time import sleep # Importando para fazer o PC esperar um pouco o processamento da web\n",
    "import datetime # para pegarmos a data de hoje \n",
    "import pandas as pd \n",
    "\n",
    "# Configurando para o webdriver abrir em tela cheia ou em segundo plano\n",
    "chromeOptions = webdriver.ChromeOptions() \n",
    "chromeOptions.add_argument(\"start-maximized\")\n",
    "# chromeOptions.add_argument(\"--headless\")\n",
    "\n",
    "# abrindo o navegador e criando minha variável que representa o navegador \n",
    "driver = webdriver.Chrome(options=chromeOptions)\n",
    "\n",
    "# acessando o site do google.com utilzando a função .get()\n",
    "driver.get('https://www.google.com/')\n",
    "sleep(1)\n",
    "\n",
    "# Passando minha pesquisa na barra de pesquisa utilzando a função .send_keys()\n",
    "driver.find_element(By.XPATH, '//*[@id=\"APjFqb\"]').send_keys('Cotação do dolar')\n",
    "sleep(1)\n",
    "\n",
    "# Click em pesquisar utilzando a função .click()\n",
    "driver.find_element(By.XPATH, '/html/body/div[1]/div[3]/form/div[1]/div[1]/div[2]/div[2]/div[5]/center/input[1]').click()\n",
    "\n",
    "# Pegando o valor do dolar utilzando a função .text\n",
    "dolar = driver.find_element(By.XPATH, '//*[@id=\"knowledge-currency__updatable-data-column\"]/div[1]/div[2]/span[1]').text\n",
    "print('Cotação do Dolar', dolar)\n",
    "sleep(1)\n",
    "\n",
    "# Limpando a barra de pesquisa com a função .clear() \n",
    "driver.find_element(By.XPATH, '//*[@id=\"APjFqb\"]').clear()\n",
    "sleep(1)\n",
    "\n",
    "driver.find_element(By.XPATH, '//*[@id=\"APjFqb\"]').send_keys('Cotação do Euro')\n",
    "sleep(1)\n",
    "\n",
    "# Utilizando Keys para utilizar a tecla especial ENTER \n",
    "driver.find_element(By.XPATH, '//*[@id=\"APjFqb\"]').send_keys(Keys.ENTER)\n",
    "sleep(1)\n",
    "euro = driver.find_element(By.XPATH, '//*[@id=\"knowledge-currency__updatable-data-column\"]/div[1]/div[2]/span[1]').text   \n",
    "print('Cotação do Euro:',euro)\n",
    "sleep(1)\n",
    "\n",
    "driver.find_element(By.XPATH, '//*[@id=\"APjFqb\"]').clear()\n",
    "sleep(1)\n",
    "driver.find_element(By.XPATH, '//*[@id=\"APjFqb\"]').send_keys('Cotação do Peso Argentino')\n",
    "sleep(1)\n",
    "driver.find_element(By.XPATH, '//*[@id=\"APjFqb\"]').send_keys(Keys.ENTER)\n",
    "peso = driver.find_element(By.XPATH, '//*[@id=\"knowledge-currency__updatable-data-column\"]/div[1]/div[2]/span[1]').text   \n",
    "print('Cotação do Peso:',peso)\n",
    "sleep(1)\n",
    "\n",
    "driver.close()\n",
    "driver.quit()\n",
    "\n",
    "# Obtém a data e hora atual\n",
    "agora = datetime.datetime.now()\n",
    "\n",
    "# Formata a data e hora no formato brasileiro\n",
    "data = agora.strftime('%d/%m/%Y')\n",
    "hora = agora.strftime('%H:%M:%S')\n",
    "\n",
    "print(data, hora)\n",
    "\n",
    "# lendo arquivo .csv\n",
    "df = pd.read_csv(\"cotacoes.csv\")\n",
    "\n",
    "# Adicionar a nova linha ao DataFrame\n",
    "df.loc[len(df)] = [data, hora, dolar, euro, peso]\n",
    "\n",
    "# salvado meu dataframe em csv\n",
    "df.to_csv('cotacoes.csv', index=False)"
   ]
  }
 ],
 "metadata": {
  "kernelspec": {
   "display_name": "Python 3",
   "language": "python",
   "name": "python3"
  },
  "language_info": {
   "codemirror_mode": {
    "name": "ipython",
    "version": 3
   },
   "file_extension": ".py",
   "mimetype": "text/x-python",
   "name": "python",
   "nbconvert_exporter": "python",
   "pygments_lexer": "ipython3",
   "version": "3.11.4"
  }
 },
 "nbformat": 4,
 "nbformat_minor": 2
}
