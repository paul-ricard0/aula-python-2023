{
 "cells": [
  {
   "cell_type": "code",
   "execution_count": null,
   "metadata": {},
   "outputs": [],
   "source": [
    "import math  # Importa o módulo math para calcular a raiz quadrada\n",
    "\n",
    "# Solicita ao usuário que insira um número\n",
    "numero = float(input(\"Digite um número: \"))\n",
    "\n",
    "# Calcula o dobro do número\n",
    "dobro = numero * 2\n",
    "\n",
    "# Calcula o triplo do número\n",
    "triplo = numero * 3\n",
    "\n",
    "# Metade do valor\n",
    "metade = numero / 2 \n",
    "\n",
    "# Calcula a raiz quadrada do número usando a função math.sqrt\n",
    "raiz_quadrada = math.sqrt(numero)\n",
    "\n",
    "# Imprime os resultados\n",
    "print(f\"O dobro de {numero} é {dobro}.\")\n",
    "print(f\"O triplo de {numero} é {triplo}.\")\n",
    "print(f\"A metade de {numero} é {metade}.\")\n",
    "print(f\"A raiz quadrada de {numero} é {raiz_quadrada:.2f}.\")\n"
   ]
  }
 ],
 "metadata": {
  "language_info": {
   "name": "python"
  },
  "orig_nbformat": 4
 },
 "nbformat": 4,
 "nbformat_minor": 2
}
