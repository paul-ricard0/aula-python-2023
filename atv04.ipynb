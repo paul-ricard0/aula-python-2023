{
 "cells": [
  {
   "cell_type": "code",
   "execution_count": null,
   "metadata": {},
   "outputs": [],
   "source": [
    "def is_float(value):\n",
    "    try:\n",
    "        float(value)\n",
    "        return True\n",
    "    except ValueError:\n",
    "        return False\n",
    "\n",
    "n = input('Digite um número: ')\n",
    "\n",
    "if is_float(n):\n",
    "    print(f\"{n} é um número float.\")\n",
    "else:\n",
    "    print(f\"{n} não é um número float.\")\n"
   ]
  },
  {
   "cell_type": "code",
   "execution_count": null,
   "metadata": {},
   "outputs": [],
   "source": [
    "def is_float(value):\n",
    "    if value.count('.') == 1:  # Verifica se há exatamente um ponto decimal\n",
    "        numeric_part = value.replace('.', '', 1)  # Remove o ponto decimal para verificar se a parte restante é numérica\n",
    "        return numeric_part.isnumeric()\n",
    "    return False\n",
    "\n",
    "n = input('Digite um número: ')\n",
    "\n",
    "if is_float(n):\n",
    "    print(f\"{n} é um número float.\")\n",
    "else:\n",
    "    print(f\"{n} não é um número float.\")\n"
   ]
  }
 ],
 "metadata": {
  "language_info": {
   "name": "python"
  },
  "orig_nbformat": 4
 },
 "nbformat": 4,
 "nbformat_minor": 2
}
