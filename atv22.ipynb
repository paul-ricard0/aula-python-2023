{
 "cells": [
  {
   "cell_type": "code",
   "execution_count": null,
   "metadata": {},
   "outputs": [],
   "source": [
    "# 22) Criar um programa que permita ao usuário remover elementos específicos de uma lista até que eles decidam parar\n",
    "lista = [10, 20, 30, 40, 50]\n",
    "\n",
    "while True:\n",
    "    print(\"Lista atual:\", lista)\n",
    "    elemento = int(input(\"Digite o elemento a ser removido (ou 0 para parar): \"))\n",
    "    if elemento == 0:\n",
    "        break\n",
    "    if elemento in lista:\n",
    "        lista.remove(elemento)\n",
    "        print(f\"{elemento} foi removido da lista.\")\n",
    "    else:\n",
    "        print(f\"{elemento} não está na lista. Nada foi removido.\")\n",
    "\n",
    "print(\"Lista final:\", lista)\n"
   ]
  }
 ],
 "metadata": {
  "language_info": {
   "name": "python"
  },
  "orig_nbformat": 4
 },
 "nbformat": 4,
 "nbformat_minor": 2
}
